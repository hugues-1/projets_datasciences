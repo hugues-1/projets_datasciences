{
 "cells": [
  {
   "cell_type": "code",
   "execution_count": 1,
   "id": "feaab144-a765-4823-90b5-4b3eeaa5b171",
   "metadata": {
    "colab": {
     "base_uri": "https://localhost:8080/",
     "height": 239
    },
    "executionInfo": {
     "elapsed": 241,
     "status": "error",
     "timestamp": 1683060174639,
     "user": {
      "displayName": "Hugues Hansen",
      "userId": "06507793026638313555"
     },
     "user_tz": -120
    },
    "id": "feaab144-a765-4823-90b5-4b3eeaa5b171",
    "outputId": "7161028a-7e57-45f1-dcc5-9fc1a045016a"
   },
   "outputs": [
    {
     "name": "stdout",
     "output_type": "stream",
     "text": [
      "<class 'pandas.core.frame.DataFrame'>\n",
      "RangeIndex: 10 entries, 0 to 9\n",
      "Data columns (total 5 columns):\n",
      " #   Column         Non-Null Count  Dtype \n",
      "---  ------         --------------  ----- \n",
      " 0   foodId         10 non-null     object\n",
      " 1   label          10 non-null     object\n",
      " 2   category       10 non-null     object\n",
      " 3   categorylabel  10 non-null     object\n",
      " 4   image          3 non-null      object\n",
      "dtypes: object(5)\n",
      "memory usage: 528.0+ bytes\n"
     ]
    }
   ],
   "source": [
    "import requests\n",
    "import pandas as pd\n",
    "import csv \n",
    "\n",
    "url = \"https://edamam-food-and-grocery-database.p.rapidapi.com/api/food-database/v2/parser\"\n",
    "\n",
    "querystring = {\"ingr\":\"champagne\"}\n",
    "\n",
    "headers = {\n",
    "    'x-rapidapi-key': \"62e9452447msha8b72ab80cfa0eap159dd3jsn6ce2429b4bb9\",\n",
    "    'x-rapidapi-host': \"edamam-food-and-grocery-database.p.rapidapi.com\"\n",
    "    }\n",
    "response = requests.request(\"GET\", url, headers=headers, params=querystring)\n",
    "\n",
    "df = []\n",
    "products= []\n",
    "\n",
    "# Extract information for the first 10 products containing champagne\n",
    "#data = response.json()[\"hints\"][:10]\n",
    "data = response.json()[\"hints\"][:10]\n",
    "\n",
    "for hit in data:\n",
    "\n",
    "    products.append({\n",
    "            \"foodId\": hit[\"food\"][\"foodId\"],\n",
    "            \"label\": hit[\"food\"][\"label\"],\n",
    "            \"category\": hit[\"food\"][\"category\"],\n",
    "            \"categorylabel\": hit[\"food\"][\"categoryLabel\"],           \n",
    "            \"image\": hit[\"food\"].get(\"image\", None)\n",
    "        })\n",
    "#  \"image\": hit[\"food\"][\"image\"]\n",
    "\n",
    "# Create a dataframe with the extracted information\n",
    "champagne = pd.DataFrame(products)\n",
    "\n",
    "# Export the dataframe to a CSV file\n",
    "#df.to_csv(\"champagne_products.csv\", index=False)\n",
    "#print (products)\n",
    "champagne.info()"
   ]
  },
  {
   "cell_type": "code",
   "execution_count": 2,
   "id": "6be59402-4992-4be7-8704-7bed0f505c0d",
   "metadata": {
    "colab": {
     "base_uri": "https://localhost:8080/"
    },
    "executionInfo": {
     "elapsed": 453,
     "status": "ok",
     "timestamp": 1683060366747,
     "user": {
      "displayName": "Hugues Hansen",
      "userId": "06507793026638313555"
     },
     "user_tz": -120
    },
    "id": "6be59402-4992-4be7-8704-7bed0f505c0d",
    "outputId": "c36c95a4-a0ba-4f34-d645-78b3d77642d0"
   },
   "outputs": [
    {
     "data": {
      "text/html": [
       "<div>\n",
       "<style scoped>\n",
       "    .dataframe tbody tr th:only-of-type {\n",
       "        vertical-align: middle;\n",
       "    }\n",
       "\n",
       "    .dataframe tbody tr th {\n",
       "        vertical-align: top;\n",
       "    }\n",
       "\n",
       "    .dataframe thead th {\n",
       "        text-align: right;\n",
       "    }\n",
       "</style>\n",
       "<table border=\"1\" class=\"dataframe\">\n",
       "  <thead>\n",
       "    <tr style=\"text-align: right;\">\n",
       "      <th></th>\n",
       "      <th>foodId</th>\n",
       "      <th>label</th>\n",
       "      <th>category</th>\n",
       "      <th>categorylabel</th>\n",
       "      <th>image</th>\n",
       "    </tr>\n",
       "  </thead>\n",
       "  <tbody>\n",
       "    <tr>\n",
       "      <th>0</th>\n",
       "      <td>food_a656mk2a5dmqb2adiamu6beihduu</td>\n",
       "      <td>Champagne</td>\n",
       "      <td>Generic foods</td>\n",
       "      <td>food</td>\n",
       "      <td>https://www.edamam.com/food-img/a71/a718cf3c52...</td>\n",
       "    </tr>\n",
       "    <tr>\n",
       "      <th>1</th>\n",
       "      <td>food_b753ithamdb8psbt0w2k9aquo06c</td>\n",
       "      <td>Champagne Vinaigrette, Champagne</td>\n",
       "      <td>Packaged foods</td>\n",
       "      <td>food</td>\n",
       "      <td>None</td>\n",
       "    </tr>\n",
       "    <tr>\n",
       "      <th>2</th>\n",
       "      <td>food_b3dyababjo54xobm6r8jzbghjgqe</td>\n",
       "      <td>Champagne Vinaigrette, Champagne</td>\n",
       "      <td>Packaged foods</td>\n",
       "      <td>food</td>\n",
       "      <td>https://www.edamam.com/food-img/d88/d88b64d973...</td>\n",
       "    </tr>\n",
       "    <tr>\n",
       "      <th>3</th>\n",
       "      <td>food_a9e0ghsamvoc45bwa2ybsa3gken9</td>\n",
       "      <td>Champagne Vinaigrette, Champagne</td>\n",
       "      <td>Packaged foods</td>\n",
       "      <td>food</td>\n",
       "      <td>None</td>\n",
       "    </tr>\n",
       "    <tr>\n",
       "      <th>4</th>\n",
       "      <td>food_an4jjueaucpus2a3u1ni8auhe7q9</td>\n",
       "      <td>Champagne Vinaigrette, Champagne</td>\n",
       "      <td>Packaged foods</td>\n",
       "      <td>food</td>\n",
       "      <td>None</td>\n",
       "    </tr>\n",
       "    <tr>\n",
       "      <th>5</th>\n",
       "      <td>food_bmu5dmkazwuvpaa5prh1daa8jxs0</td>\n",
       "      <td>Champagne Dressing, Champagne</td>\n",
       "      <td>Packaged foods</td>\n",
       "      <td>food</td>\n",
       "      <td>https://www.edamam.com/food-img/ab2/ab2459fc2a...</td>\n",
       "    </tr>\n",
       "    <tr>\n",
       "      <th>6</th>\n",
       "      <td>food_alpl44taoyv11ra0lic1qa8xculi</td>\n",
       "      <td>Champagne Buttercream</td>\n",
       "      <td>Generic meals</td>\n",
       "      <td>meal</td>\n",
       "      <td>None</td>\n",
       "    </tr>\n",
       "    <tr>\n",
       "      <th>7</th>\n",
       "      <td>food_byap67hab6evc3a0f9w1oag3s0qf</td>\n",
       "      <td>Champagne Sorbet</td>\n",
       "      <td>Generic meals</td>\n",
       "      <td>meal</td>\n",
       "      <td>None</td>\n",
       "    </tr>\n",
       "    <tr>\n",
       "      <th>8</th>\n",
       "      <td>food_am5egz6aq3fpjlaf8xpkdbc2asis</td>\n",
       "      <td>Champagne Truffles</td>\n",
       "      <td>Generic meals</td>\n",
       "      <td>meal</td>\n",
       "      <td>None</td>\n",
       "    </tr>\n",
       "    <tr>\n",
       "      <th>9</th>\n",
       "      <td>food_bcz8rhiajk1fuva0vkfmeakbouc0</td>\n",
       "      <td>Champagne Vinaigrette</td>\n",
       "      <td>Generic meals</td>\n",
       "      <td>meal</td>\n",
       "      <td>None</td>\n",
       "    </tr>\n",
       "  </tbody>\n",
       "</table>\n",
       "</div>"
      ],
      "text/plain": [
       "                              foodId                             label  \\\n",
       "0  food_a656mk2a5dmqb2adiamu6beihduu                         Champagne   \n",
       "1  food_b753ithamdb8psbt0w2k9aquo06c  Champagne Vinaigrette, Champagne   \n",
       "2  food_b3dyababjo54xobm6r8jzbghjgqe  Champagne Vinaigrette, Champagne   \n",
       "3  food_a9e0ghsamvoc45bwa2ybsa3gken9  Champagne Vinaigrette, Champagne   \n",
       "4  food_an4jjueaucpus2a3u1ni8auhe7q9  Champagne Vinaigrette, Champagne   \n",
       "5  food_bmu5dmkazwuvpaa5prh1daa8jxs0     Champagne Dressing, Champagne   \n",
       "6  food_alpl44taoyv11ra0lic1qa8xculi             Champagne Buttercream   \n",
       "7  food_byap67hab6evc3a0f9w1oag3s0qf                  Champagne Sorbet   \n",
       "8  food_am5egz6aq3fpjlaf8xpkdbc2asis                Champagne Truffles   \n",
       "9  food_bcz8rhiajk1fuva0vkfmeakbouc0             Champagne Vinaigrette   \n",
       "\n",
       "         category categorylabel  \\\n",
       "0   Generic foods          food   \n",
       "1  Packaged foods          food   \n",
       "2  Packaged foods          food   \n",
       "3  Packaged foods          food   \n",
       "4  Packaged foods          food   \n",
       "5  Packaged foods          food   \n",
       "6   Generic meals          meal   \n",
       "7   Generic meals          meal   \n",
       "8   Generic meals          meal   \n",
       "9   Generic meals          meal   \n",
       "\n",
       "                                               image  \n",
       "0  https://www.edamam.com/food-img/a71/a718cf3c52...  \n",
       "1                                               None  \n",
       "2  https://www.edamam.com/food-img/d88/d88b64d973...  \n",
       "3                                               None  \n",
       "4                                               None  \n",
       "5  https://www.edamam.com/food-img/ab2/ab2459fc2a...  \n",
       "6                                               None  \n",
       "7                                               None  \n",
       "8                                               None  \n",
       "9                                               None  "
      ]
     },
     "execution_count": 2,
     "metadata": {},
     "output_type": "execute_result"
    }
   ],
   "source": [
    "champagne\n",
    "\n"
   ]
  },
  {
   "cell_type": "code",
   "execution_count": null,
   "id": "R5odorgJLaP2",
   "metadata": {
    "id": "R5odorgJLaP2"
   },
   "outputs": [],
   "source": [
    "champagne.to_csv(\"champagne.csv\")"
   ]
  },
  {
   "cell_type": "code",
   "execution_count": null,
   "id": "e758f0d7-82c8-42ce-9225-741c056e2361",
   "metadata": {},
   "outputs": [],
   "source": []
  }
 ],
 "metadata": {
  "colab": {
   "provenance": []
  },
  "kernelspec": {
   "display_name": "Python 3 (ipykernel)",
   "language": "python",
   "name": "python3"
  },
  "language_info": {
   "codemirror_mode": {
    "name": "ipython",
    "version": 3
   },
   "file_extension": ".py",
   "mimetype": "text/x-python",
   "name": "python",
   "nbconvert_exporter": "python",
   "pygments_lexer": "ipython3",
   "version": "3.11.3"
  },
  "widgets": {
   "application/vnd.jupyter.widget-state+json": {
    "state": {},
    "version_major": 2,
    "version_minor": 0
   }
  }
 },
 "nbformat": 4,
 "nbformat_minor": 5
}
